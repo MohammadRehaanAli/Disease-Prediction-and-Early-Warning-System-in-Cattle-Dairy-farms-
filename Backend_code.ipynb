{
  "nbformat": 4,
  "nbformat_minor": 0,
  "metadata": {
    "colab": {
      "provenance": [],
      "authorship_tag": "ABX9TyNeWo4ekrr+QUx0BIMigN56",
      "include_colab_link": true
    },
    "kernelspec": {
      "name": "python3",
      "display_name": "Python 3"
    },
    "language_info": {
      "name": "python"
    }
  },
  "cells": [
    {
      "cell_type": "markdown",
      "metadata": {
        "id": "view-in-github",
        "colab_type": "text"
      },
      "source": [
        "<a href=\"https://colab.research.google.com/github/MohammadRehaanAli/Disease-Prediction-and-Early-Warning-System-in-Cattle-Dairy-farms-/blob/main/Backend_code.ipynb\" target=\"_parent\"><img src=\"https://colab.research.google.com/assets/colab-badge.svg\" alt=\"Open In Colab\"/></a>"
      ]
    },
    {
      "cell_type": "code",
      "execution_count": null,
      "metadata": {
        "colab": {
          "base_uri": "https://localhost:8080/"
        },
        "id": "OwzDubPYPYco",
        "outputId": "941ac8f8-ecd4-4ae5-90ba-bcc5d3d3d5d3"
      },
      "outputs": [
        {
          "output_type": "stream",
          "name": "stdout",
          "text": [
            " * Serving Flask app '__main__'\n",
            " * Debug mode: on\n"
          ]
        },
        {
          "output_type": "stream",
          "name": "stderr",
          "text": [
            "INFO:werkzeug:\u001b[31m\u001b[1mWARNING: This is a development server. Do not use it in a production deployment. Use a production WSGI server instead.\u001b[0m\n",
            " * Running on http://127.0.0.1:5000\n",
            "INFO:werkzeug:\u001b[33mPress CTRL+C to quit\u001b[0m\n",
            "INFO:werkzeug: * Restarting with stat\n"
          ]
        }
      ],
      "source": [
        "from flask import Flask, render_template, request, redirect, url_for\n",
        "import pandas as pd\n",
        "import os\n",
        "\n",
        "app = Flask(__name__)\n",
        "\n",
        "# Directory to save uploaded files\n",
        "UPLOAD_FOLDER = 'uploads'\n",
        "if not os.path.exists(UPLOAD_FOLDER):\n",
        "    os.makedirs(UPLOAD_FOLDER)\n",
        "\n",
        "app.config['UPLOAD_FOLDER'] = UPLOAD_FOLDER\n",
        "\n",
        "# Dummy prediction logic\n",
        "def predict_disease(temperature, pulse):\n",
        "    if temperature > 39 and pulse > 80:\n",
        "        return \"Heat Stress\", \"Provide cool shade and plenty of water\"\n",
        "    elif temperature > 38 and pulse > 75:\n",
        "        return \"Viral Infection\", \"Isolate and consult a veterinarian\"\n",
        "    elif temperature > 37 and pulse > 70:\n",
        "        return \"Bacterial Infection\", \"Antibiotic treatment may be required\"\n",
        "    else:\n",
        "        return \"Healthy\", \"No specific precautions needed\"\n",
        "\n",
        "@app.route('/')\n",
        "def home():\n",
        "    return render_template('upload.html')\n",
        "\n",
        "@app.route('/predict_disease', methods=['POST'])\n",
        "def predict_disease_route():\n",
        "    if 'file' not in request.files:\n",
        "        return redirect(request.url)\n",
        "\n",
        "    file = request.files['file']\n",
        "    if file.filename == '':\n",
        "        return redirect(request.url)\n",
        "\n",
        "    if file and file.filename.endswith('.csv'):\n",
        "        file_path = os.path.join(app.config['UPLOAD_FOLDER'], file.filename)\n",
        "        file.save(file_path)\n",
        "\n",
        "        # Read the CSV file using pandas\n",
        "        data = pd.read_csv(file_path)\n",
        "\n",
        "        # Ensure the CSV has the required columns: 'Cattle ID', 'Temperature', 'Pulse'\n",
        "        if not {'Cattle ID', 'Temperature', 'Pulse'}.issubset(data.columns):\n",
        "            return \"CSV must contain 'Cattle ID', 'Temperature', and 'Pulse' columns.\"\n",
        "\n",
        "        results = []\n",
        "\n",
        "        # Loop through the dataframe rows and make predictions\n",
        "        for index, row in data.iterrows():\n",
        "            cattle_id = row['Cattle ID']\n",
        "            temperature = row['Temperature']\n",
        "            pulse = row['Pulse']\n",
        "\n",
        "            detected_disease, precautions = predict_disease(temperature, pulse)\n",
        "\n",
        "            results.append({\n",
        "                'cattle_id': cattle_id,\n",
        "                'detected_disease': detected_disease,\n",
        "                'precautions': precautions\n",
        "            })\n",
        "\n",
        "        # Render the results on the results.html page\n",
        "        return render_template('results.html', results=results)\n",
        "\n",
        "if __name__ == '__main__':\n",
        "    app.run(debug=True)\n"
      ]
    }
  ]
}